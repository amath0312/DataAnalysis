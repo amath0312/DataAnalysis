{
 "cells": [
  {
   "cell_type": "markdown",
   "metadata": {},
   "source": [
    "# NumPy"
   ]
  },
  {
   "cell_type": "markdown",
   "metadata": {},
   "source": [
    "* ndarray 多维数组"
   ]
  },
  {
   "cell_type": "code",
   "execution_count": 1,
   "metadata": {
    "collapsed": false
   },
   "outputs": [
    {
     "name": "stdout",
     "output_type": "stream",
     "text": [
      "[[ 0.78596215  0.5507353   0.92023539]\n",
      " [ 0.68336478  0.46332228  0.13352521]]\n"
     ]
    }
   ],
   "source": [
    "import numpy as np\n",
    "\n",
    "# 生成指定维度的随机多维数据\n",
    "data = np.random.rand(2, 3)\n",
    "print data"
   ]
  },
  {
   "cell_type": "markdown",
   "metadata": {},
   "source": [
    "* ndim, shape 和 dtype 属性"
   ]
  },
  {
   "cell_type": "code",
   "execution_count": 16,
   "metadata": {
    "collapsed": false
   },
   "outputs": [
    {
     "name": "stdout",
     "output_type": "stream",
     "text": [
      "维度个数 2\n",
      "各维度大小:  (2L, 10L)\n",
      "数据类型:  int32\n"
     ]
    }
   ],
   "source": [
    "print '维度个数', data.ndim\n",
    "print '各维度大小: ', data.shape\n",
    "print '数据类型: ', data.dtype"
   ]
  },
  {
   "cell_type": "markdown",
   "metadata": {},
   "source": [
    "* 创建ndarray"
   ]
  },
  {
   "cell_type": "code",
   "execution_count": 14,
   "metadata": {
    "collapsed": false
   },
   "outputs": [
    {
     "name": "stdout",
     "output_type": "stream",
     "text": [
      "[0 1 2 3 4 5 6 7 8 9]\n",
      "(10L,)\n"
     ]
    }
   ],
   "source": [
    "# list转换为 ndarray\n",
    "l = range(10)\n",
    "data = np.array(l)\n",
    "print data\n",
    "print data.shape"
   ]
  },
  {
   "cell_type": "code",
   "execution_count": 15,
   "metadata": {
    "collapsed": false
   },
   "outputs": [
    {
     "name": "stdout",
     "output_type": "stream",
     "text": [
      "[[0 1 2 3 4 5 6 7 8 9]\n",
      " [0 1 2 3 4 5 6 7 8 9]]\n",
      "(2L, 10L)\n"
     ]
    }
   ],
   "source": [
    "# 嵌套序列转换为ndarray\n",
    "l2 = [range(10), range(10)]\n",
    "data = np.array(l2)\n",
    "print data\n",
    "print data.shape"
   ]
  },
  {
   "cell_type": "code",
   "execution_count": 3,
   "metadata": {
    "collapsed": false
   },
   "outputs": [
    {
     "name": "stdout",
     "output_type": "stream",
     "text": [
      "[[ 0.  0.  0.  0.]\n",
      " [ 0.  0.  0.  0.]\n",
      " [ 0.  0.  0.  0.]]\n",
      "-------------\n",
      "[[ 1.  1.  1.]\n",
      " [ 1.  1.  1.]]\n",
      "-------------\n",
      "[[  2.30979247e-316   3.01367317e-316   2.36057609e-316]\n",
      " [  1.89214455e-316   1.89214455e-316   2.30979010e-316]\n",
      " [  3.01367317e-316   3.16408177e-316   3.54953993e-316]]\n",
      "-------------\n",
      "[[506050504         0  65597376]\n",
      " [        0  65597376         0]\n",
      " [ 76150608         0 506050504]]\n"
     ]
    }
   ],
   "source": [
    "# np.zeros, np.ones 和 np.empty\n",
    "\n",
    "# np.zeros\n",
    "zeros_arr = np.zeros((3, 4))\n",
    "\n",
    "# np.ones\n",
    "ones_arr = np.ones((2, 3))\n",
    "\n",
    "# np.empty\n",
    "empty_arr = np.empty((3, 3))\n",
    "\n",
    "# np.empty 指定数据类型\n",
    "empty_int_arr = np.empty((3, 3), int)\n",
    "\n",
    "print zeros_arr\n",
    "print '-------------'\n",
    "print ones_arr\n",
    "print '-------------'\n",
    "print empty_arr\n",
    "print '-------------'\n",
    "print empty_int_arr"
   ]
  },
  {
   "cell_type": "code",
   "execution_count": 33,
   "metadata": {
    "collapsed": false
   },
   "outputs": [
    {
     "name": "stdout",
     "output_type": "stream",
     "text": [
      "[0 1 2 3 4 5 6 7 8 9]\n"
     ]
    }
   ],
   "source": [
    "# np.arange()\n",
    "print np.arange(10)"
   ]
  },
  {
   "cell_type": "markdown",
   "metadata": {},
   "source": [
    "* ndarray数据类型"
   ]
  },
  {
   "cell_type": "code",
   "execution_count": 36,
   "metadata": {
    "collapsed": false
   },
   "outputs": [
    {
     "name": "stdout",
     "output_type": "stream",
     "text": [
      "[[ 0.  0.  0.  0.]\n",
      " [ 0.  0.  0.  0.]\n",
      " [ 0.  0.  0.  0.]]\n",
      "float64\n",
      "[[0 0 0 0]\n",
      " [0 0 0 0]\n",
      " [0 0 0 0]]\n",
      "int32\n"
     ]
    }
   ],
   "source": [
    "zeros_float_arr = np.zeros((3, 4), dtype=np.float64)\n",
    "print zeros_float_arr\n",
    "print zeros_float_arr.dtype\n",
    "\n",
    "# astype转换数据类型\n",
    "zeros_int_arr = zeros_float_arr.astype(np.int32)\n",
    "print zeros_int_arr\n",
    "print zeros_int_arr.dtype"
   ]
  },
  {
   "cell_type": "markdown",
   "metadata": {
    "collapsed": true
   },
   "source": [
    "* 矢量化 (vectorization)"
   ]
  },
  {
   "cell_type": "code",
   "execution_count": 7,
   "metadata": {
    "collapsed": false
   },
   "outputs": [
    {
     "name": "stdout",
     "output_type": "stream",
     "text": [
      "矩阵相乘：\n",
      "[[ 1  4  9]\n",
      " [16 25 36]]\n",
      "矩阵相加：\n",
      "[[ 2  4  6]\n",
      " [ 8 10 12]]\n"
     ]
    }
   ],
   "source": [
    "# 矢量与矢量运算\n",
    "arr = np.array([[1, 2, 3],\n",
    "                [4, 5, 6]])\n",
    "\n",
    "print \"矩阵相乘：\"\n",
    "print arr * arr\n",
    "\n",
    "print \"矩阵相加：\"\n",
    "print arr + arr"
   ]
  },
  {
   "cell_type": "code",
   "execution_count": 9,
   "metadata": {
    "collapsed": false
   },
   "outputs": [
    {
     "name": "stdout",
     "output_type": "stream",
     "text": [
      "[[ 1.          0.5         0.33333333]\n",
      " [ 0.25        0.2         0.16666667]]\n",
      "[[  2.   4.   6.]\n",
      " [  8.  10.  12.]]\n"
     ]
    }
   ],
   "source": [
    "# 矢量与标量运算\n",
    "print 1. / arr\n",
    "print 2. * arr"
   ]
  },
  {
   "cell_type": "markdown",
   "metadata": {},
   "source": [
    "* 索引与切片"
   ]
  },
  {
   "cell_type": "code",
   "execution_count": 13,
   "metadata": {
    "collapsed": false
   },
   "outputs": [
    {
     "name": "stdout",
     "output_type": "stream",
     "text": [
      "[0 1 2 3 4 5 6 7 8 9]\n",
      "[2 3 4]\n"
     ]
    }
   ],
   "source": [
    "# 一维数组\n",
    "arr1 = np.arange(10)\n",
    "print arr1\n",
    "\n",
    "print arr1[2:5]"
   ]
  },
  {
   "cell_type": "code",
   "execution_count": 15,
   "metadata": {
    "collapsed": false
   },
   "outputs": [
    {
     "name": "stdout",
     "output_type": "stream",
     "text": [
      "[[ 0  1  2  3]\n",
      " [ 4  5  6  7]\n",
      " [ 8  9 10 11]]\n"
     ]
    }
   ],
   "source": [
    "# 多维数组\n",
    "arr2 = np.arange(12).reshape(3,4)\n",
    "print arr2"
   ]
  },
  {
   "cell_type": "code",
   "execution_count": 18,
   "metadata": {
    "collapsed": false
   },
   "outputs": [
    {
     "name": "stdout",
     "output_type": "stream",
     "text": [
      "[4 5 6 7]\n",
      "[[2 3]\n",
      " [6 7]]\n",
      "[[ 1  2]\n",
      " [ 5  6]\n",
      " [ 9 10]]\n"
     ]
    }
   ],
   "source": [
    "print arr2[1]\n",
    "\n",
    "print arr2[0:2, 2:]\n",
    "\n",
    "print arr2[:, 1:3]"
   ]
  },
  {
   "cell_type": "code",
   "execution_count": 24,
   "metadata": {
    "collapsed": false
   },
   "outputs": [
    {
     "name": "stdout",
     "output_type": "stream",
     "text": [
      "[[ 0.71928296  0.58882179  0.63674243]\n",
      " [ 0.64664054  0.83189937  0.62081759]\n",
      " [ 0.74763054  0.95488689  0.05350783]]\n",
      "[[False False False]\n",
      " [ True False  True]\n",
      " [False False  True]]\n",
      "[ 0.10828044  0.44198387  0.39135258]\n"
     ]
    }
   ],
   "source": [
    "# 条件索引\n",
    "\n",
    "# 找出 data_arr 中 2015年后的数据\n",
    "data_arr = np.random.rand(3,3)\n",
    "print arr\n",
    "\n",
    "year_arr = np.array([[2000, 2001, 2000],\n",
    "                     [2005, 2002, 2009],\n",
    "                     [2001, 2003, 2010]])\n",
    "\n",
    "is_year_after_2005 = year_arr >= 2005\n",
    "print is_year_after_2005\n",
    "\n",
    "filtered_arr = data_arr[is_year_after_2005]\n",
    "\n",
    "# filtered_arr = data_arr[year_arr >= 2005]\n",
    "print filtered_arr"
   ]
  },
  {
   "cell_type": "code",
   "execution_count": 30,
   "metadata": {
    "collapsed": false
   },
   "outputs": [
    {
     "name": "stdout",
     "output_type": "stream",
     "text": [
      "[ 0.39191954  0.43459262  0.05071228]\n"
     ]
    }
   ],
   "source": [
    "# 多个条件\n",
    "filtered_arr = data_arr[(year_arr <= 2005) & (year_arr % 2 == 0)]\n",
    "print filtered_arr"
   ]
  },
  {
   "cell_type": "markdown",
   "metadata": {},
   "source": [
    "* 转置"
   ]
  },
  {
   "cell_type": "code",
   "execution_count": 33,
   "metadata": {
    "collapsed": false
   },
   "outputs": [
    {
     "name": "stdout",
     "output_type": "stream",
     "text": [
      "[[ 0.00957081  0.48249527  0.16340679]\n",
      " [ 0.84263892  0.10970907  0.32052397]]\n",
      "[[ 0.00957081  0.84263892]\n",
      " [ 0.48249527  0.10970907]\n",
      " [ 0.16340679  0.32052397]]\n"
     ]
    }
   ],
   "source": [
    "arr = np.random.rand(2,3)\n",
    "print arr\n",
    "print arr.transpose()"
   ]
  },
  {
   "cell_type": "code",
   "execution_count": 42,
   "metadata": {
    "collapsed": false
   },
   "outputs": [
    {
     "name": "stdout",
     "output_type": "stream",
     "text": [
      "[[[ 0.80628282  0.24387758  0.28724256  0.76455504]\n",
      "  [ 0.72723808  0.40036434  0.05022535  0.36656317]\n",
      "  [ 0.14001849  0.68547285  0.97271803  0.94812686]]\n",
      "\n",
      " [[ 0.51001945  0.7823834   0.95804455  0.20243681]\n",
      "  [ 0.38859524  0.09837166  0.07594897  0.85106183]\n",
      "  [ 0.77683869  0.0270484   0.0630844   0.21743049]]]\n",
      "----------------------\n",
      "[[[ 0.80628282  0.24387758  0.28724256  0.76455504]\n",
      "  [ 0.51001945  0.7823834   0.95804455  0.20243681]]\n",
      "\n",
      " [[ 0.72723808  0.40036434  0.05022535  0.36656317]\n",
      "  [ 0.38859524  0.09837166  0.07594897  0.85106183]]\n",
      "\n",
      " [[ 0.14001849  0.68547285  0.97271803  0.94812686]\n",
      "  [ 0.77683869  0.0270484   0.0630844   0.21743049]]]\n"
     ]
    }
   ],
   "source": [
    "arr3d = np.random.rand(2,3,4)\n",
    "print arr3d\n",
    "print '----------------------'\n",
    "print arr3d.transpose((1,0,2))"
   ]
  },
  {
   "cell_type": "markdown",
   "metadata": {},
   "source": [
    "* 通用函数"
   ]
  },
  {
   "cell_type": "code",
   "execution_count": 55,
   "metadata": {
    "collapsed": false
   },
   "outputs": [
    {
     "name": "stdout",
     "output_type": "stream",
     "text": [
      "[[ 0.97451709  0.2724418   0.01348689]\n",
      " [-1.25971964 -1.53023993  0.39972047]]\n",
      "[[ 1.  1.  1.]\n",
      " [-1. -1.  1.]]\n",
      "[[ 0.  0.  0.]\n",
      " [-2. -2.  0.]]\n",
      "[[ 1.  0.  0.]\n",
      " [-1. -2.  0.]]\n",
      "[[False False False]\n",
      " [False False False]]\n"
     ]
    }
   ],
   "source": [
    "arr = np.random.randn(2,3)\n",
    "\n",
    "print arr\n",
    "print np.ceil(arr)\n",
    "print np.floor(arr)\n",
    "print np.rint(arr)\n",
    "print np.isnan(arr)"
   ]
  },
  {
   "cell_type": "markdown",
   "metadata": {},
   "source": [
    "* np.where"
   ]
  },
  {
   "cell_type": "code",
   "execution_count": 56,
   "metadata": {
    "collapsed": false
   },
   "outputs": [
    {
     "name": "stdout",
     "output_type": "stream",
     "text": [
      "[[ 0.06590906 -0.16637453 -1.18028032  0.54123864]\n",
      " [ 0.77931493  0.07859797  2.16192591 -1.57154715]\n",
      " [ 0.55409866  0.20366508 -0.37156647 -0.55725045]]\n"
     ]
    },
    {
     "data": {
      "text/plain": [
       "array([[ 1, -1, -1,  1],\n",
       "       [ 1,  1,  1, -1],\n",
       "       [ 1,  1, -1, -1]])"
      ]
     },
     "execution_count": 56,
     "metadata": {},
     "output_type": "execute_result"
    }
   ],
   "source": [
    "arr = np.random.randn(3,4)\n",
    "print arr\n",
    "\n",
    "np.where(arr > 0, 1, -1)"
   ]
  },
  {
   "cell_type": "markdown",
   "metadata": {},
   "source": [
    "*  常用的统计方法"
   ]
  },
  {
   "cell_type": "code",
   "execution_count": 61,
   "metadata": {
    "collapsed": false
   },
   "outputs": [
    {
     "name": "stdout",
     "output_type": "stream",
     "text": [
      "[[0 1]\n",
      " [2 3]\n",
      " [4 5]\n",
      " [6 7]\n",
      " [8 9]]\n",
      "45\n",
      "[20 25]\n",
      "[ 1  5  9 13 17]\n"
     ]
    }
   ],
   "source": [
    "arr = np.arange(10).reshape(5,2)\n",
    "print arr\n",
    "\n",
    "print np.sum(arr)\n",
    "print np.sum(arr, axis=0)\n",
    "print np.sum(arr, axis=1)"
   ]
  },
  {
   "cell_type": "markdown",
   "metadata": {},
   "source": [
    "* np.all 和 np.any"
   ]
  },
  {
   "cell_type": "code",
   "execution_count": 65,
   "metadata": {
    "collapsed": false
   },
   "outputs": [
    {
     "name": "stdout",
     "output_type": "stream",
     "text": [
      "[[ 2.61453922  2.28885454  0.71449142]\n",
      " [ 0.17605845 -1.3106053  -0.19767145]]\n",
      "True\n",
      "False\n"
     ]
    }
   ],
   "source": [
    "arr = np.random.randn(2,3)\n",
    "print arr\n",
    "\n",
    "print np.any(arr > 0)\n",
    "print np.all(arr > 0)"
   ]
  },
  {
   "cell_type": "markdown",
   "metadata": {},
   "source": [
    "* np.unique"
   ]
  },
  {
   "cell_type": "code",
   "execution_count": 69,
   "metadata": {
    "collapsed": false
   },
   "outputs": [
    {
     "name": "stdout",
     "output_type": "stream",
     "text": [
      "[[1 2 1]\n",
      " [2 3 4]]\n",
      "[1 2 3 4]\n"
     ]
    }
   ],
   "source": [
    "arr = np.array([[1, 2, 1], [2, 3, 4]])\n",
    "print arr\n",
    "print np.unique(arr)"
   ]
  },
  {
   "cell_type": "markdown",
   "metadata": {},
   "source": [
    "* 文本文件的读取"
   ]
  },
  {
   "cell_type": "code",
   "execution_count": 33,
   "metadata": {
    "collapsed": false
   },
   "outputs": [
    {
     "name": "stdout",
     "output_type": "stream",
     "text": [
      "[['cycle' 'type' 'matchup']\n",
      " ['2016' '\"polls-plus\"' '\"Clinton vs. Trump vs. Johnson\"']\n",
      " ['2016' '\"polls-plus\"' '\"Clinton vs. Trump vs. Johnson\"']\n",
      " ..., \n",
      " ['2016' '\"polls-only\"' '\"Clinton vs. Trump vs. Johnson\"']\n",
      " ['2016' '\"polls-only\"' '\"Clinton vs. Trump vs. Johnson\"']\n",
      " ['2016' '\"polls-only\"' '\"Clinton vs. Trump vs. Johnson\"']] (10237L, 3L)\n"
     ]
    }
   ],
   "source": [
    "# loadtxt\n",
    "filename = './presidential_polls.csv'\n",
    "data_array = np.loadtxt(filename,      # 文件名\n",
    "                        delimiter=',', # 分隔符\n",
    "                        dtype=str,     # 数据类型\n",
    "                        usecols=(0,2,3)) # 指定读取的列索引号\n",
    "print data_array, data_array.shape"
   ]
  },
  {
   "cell_type": "code",
   "execution_count": 31,
   "metadata": {
    "collapsed": false
   },
   "outputs": [
    {
     "name": "stdout",
     "output_type": "stream",
     "text": [
      "[(2016, '\"polls-plus\"', '\"Clinton vs. Trump vs. Johnson\"')\n",
      " (2016, '\"polls-plus\"', '\"Clinton vs. Trump vs. Johnson\"')\n",
      " (2016, '\"polls-plus\"', '\"Clinton vs. Trump vs. Johnson\"') ...,\n",
      " (2016, '\"polls-only\"', '\"Clinton vs. Trump vs. Johnson\"')\n",
      " (2016, '\"polls-only\"', '\"Clinton vs. Trump vs. Johnson\"')\n",
      " (2016, '\"polls-only\"', '\"Clinton vs. Trump vs. Johnson\"')] (10236L,)\n"
     ]
    }
   ],
   "source": [
    "# loadtxt, 明确指定每列数据的类型\n",
    "filename = './presidential_polls.csv'\n",
    "data_array = np.loadtxt(filename,      # 文件名\n",
    "                        delimiter=',', # 分隔符\n",
    "                        skiprows=1,\n",
    "                        dtype={'names':('cycle', 'type', 'matchup'),\n",
    "                               'formats':('i4', 'S15', 'S50')},     # 数据类型\n",
    "                        usecols=(0,2,3)) # 指定读取的列索引号\n",
    "\n",
    "print data_array, data_array.shape # 读取的结果是一维的数组，每个元素是一个元组"
   ]
  }
 ],
 "metadata": {
  "anaconda-cloud": {},
  "celltoolbar": "Raw Cell Format",
  "kernelspec": {
   "display_name": "Python [conda root]",
   "language": "python",
   "name": "conda-root-py"
  },
  "language_info": {
   "codemirror_mode": {
    "name": "ipython",
    "version": 2
   },
   "file_extension": ".py",
   "mimetype": "text/x-python",
   "name": "python",
   "nbconvert_exporter": "python",
   "pygments_lexer": "ipython2",
   "version": "2.7.12"
  }
 },
 "nbformat": 4,
 "nbformat_minor": 1
}
