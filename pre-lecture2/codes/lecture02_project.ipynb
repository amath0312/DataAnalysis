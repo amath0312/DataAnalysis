{
 "cells": [
  {
   "cell_type": "markdown",
   "metadata": {},
   "source": [
    "# 2016美国大选\n",
    "[项目地址](https://www.kaggle.com/fivethirtyeight/2016-election-polls)"
   ]
  },
  {
   "cell_type": "code",
   "execution_count": null,
   "metadata": {
    "collapsed": false
   },
   "outputs": [],
   "source": [
    "# 引入必要的库\n",
    "import numpy as np\n",
    "import datetime\n",
    "import matplotlib.pyplot as plt\n",
    "%matplotlib inline\n",
    "\n",
    "# 数据文件地址\n",
    "filename = './presidential_polls.csv'"
   ]
  },
  {
   "cell_type": "markdown",
   "metadata": {},
   "source": [
    "* 列名预处理"
   ]
  },
  {
   "cell_type": "code",
   "execution_count": null,
   "metadata": {
    "collapsed": false
   },
   "outputs": [],
   "source": [
    "# 读取列名，即第一行数据\n",
    "with open(filename, 'r') as f:\n",
    "    col_names_str = f.readline()[:-1] # [:-1]表示不读取末尾的换行符'\\n'\n",
    "\n",
    "# 将字符串拆分，并组成列表\n",
    "col_name_lst = col_names_str.split(',')\n",
    "\n",
    "# 使用的列名\n",
    "use_col_name_lst = ['enddate', 'rawpoll_clinton', 'rawpoll_trump','adjpoll_clinton', 'adjpoll_trump']\n",
    "\n",
    "# 获取相应列名的索引号\n",
    "use_col_index_lst = [col_name_lst.index(use_col_name) for use_col_name in use_col_name_lst]\n"
   ]
  },
  {
   "cell_type": "markdown",
   "metadata": {
    "collapsed": true
   },
   "source": [
    "* 数据读取"
   ]
  },
  {
   "cell_type": "code",
   "execution_count": null,
   "metadata": {
    "collapsed": false
   },
   "outputs": [],
   "source": [
    "data_array = np.loadtxt(filename,      # 文件名\n",
    "                        delimiter=',', # 分隔符\n",
    "                        skiprows=1,    # 跳过第一行，即跳过列名\n",
    "                        dtype=str,     # 数据类型\n",
    "                        usecols=use_col_index_lst) # 指定读取的列索引号\n",
    "\n",
    "print data_array, data_array.shape"
   ]
  },
  {
   "cell_type": "markdown",
   "metadata": {},
   "source": [
    "* 数据处理"
   ]
  },
  {
   "cell_type": "code",
   "execution_count": null,
   "metadata": {
    "collapsed": false
   },
   "outputs": [],
   "source": [
    "# 处理日期格式数据\n",
    "enddate_idx = use_col_name_lst.index('enddate')\n",
    "enddate_lst = data_array[:,enddate_idx].tolist()\n",
    "\n",
    "# 将日期字符串格式统一，即'yy/dd/mm'\n",
    "enddate_lst = [enddate.replace('-', '/') for enddate in enddate_lst]\n",
    "\n",
    "# 将日期字符串转换成日期\n",
    "date_lst = [datetime.datetime.strptime(enddate, '%m/%d/%Y') for enddate in enddate_lst]\n",
    "\n",
    "# 构造年份-月份列表\n",
    "month_lst = ['%d-%02d' %(date_obj.year, date_obj.month) for date_obj in date_lst]\n",
    "\n",
    "print month_lst"
   ]
  },
  {
   "cell_type": "code",
   "execution_count": null,
   "metadata": {
    "collapsed": false
   },
   "outputs": [],
   "source": [
    "month_array = np.array(month_lst)\n",
    "months = np.unique(month_array)\n",
    "print months"
   ]
  },
  {
   "cell_type": "markdown",
   "metadata": {},
   "source": [
    "* 数据分析"
   ]
  },
  {
   "cell_type": "code",
   "execution_count": null,
   "metadata": {
    "collapsed": false,
    "scrolled": false
   },
   "outputs": [],
   "source": [
    "# 统计民意投票数\n",
    "# cliton\n",
    "# 原始数据 rawpoll\n",
    "rawpoll_clinton_idx = use_col_name_lst.index('rawpoll_clinton')\n",
    "rawpoll_clinton_data = data_array[:, rawpoll_clinton_idx]\n",
    "\n",
    "# 调整后的数据 adhpool\n",
    "adjpoll_clinton_idx = use_col_name_lst.index('adjpoll_clinton')\n",
    "adjpoll_clinton_data = data_array[:, adjpoll_clinton_idx]\n",
    "\n",
    "# trump\n",
    "# 原始数据 rawpoll\n",
    "rawpoll_trump_idx = use_col_name_lst.index('rawpoll_trump')\n",
    "rawpoll_trump_data = data_array[:, rawpoll_trump_idx]\n",
    "\n",
    "# 调整后的数据 adjpoll\n",
    "adjpoll_trump_idx = use_col_name_lst.index('adjpoll_trump')\n",
    "adjpoll_trump_data = data_array[:, adjpoll_trump_idx]\n",
    "\n",
    "# 结果保存\n",
    "results = []\n",
    "\n",
    "def is_convert_float(s):\n",
    "    \"\"\"\n",
    "         判断一个字符串能否转换为float\n",
    "    \"\"\"\n",
    "    try:\n",
    "        float(s)\n",
    "    except:\n",
    "        return False\n",
    "    \n",
    "    return True\n",
    "\n",
    "def get_sum(str_array):\n",
    "    \"\"\"\n",
    "        返回字符串数组中数字的总和\n",
    "    \"\"\"\n",
    "    # 去掉不能转换成数字的数据\n",
    "    cleaned_data = filter(is_convert_float, str_array)\n",
    "    \n",
    "    # 转换数据类型\n",
    "    float_array = np.array(cleaned_data, np.float)\n",
    "    \n",
    "    return np.sum(float_array)\n",
    "    \n",
    "\n",
    "for month in months:   \n",
    "    # clinton\n",
    "    # 原始数据 rawpoll\n",
    "    rawpoll_clinton_month_data = rawpoll_clinton_data[month_array == month]  \n",
    "    # 统计当月的总票数\n",
    "    rawpoll_clinton_month_sum = get_sum(rawpoll_clinton_month_data)\n",
    "    \n",
    "    # 调整数据 adjpoll\n",
    "    adjpoll_clinton_month_data = adjpoll_clinton_data[month_array == month]  \n",
    "    # 统计当月的总票数\n",
    "    adjpoll_clinton_month_sum = get_sum(adjpoll_clinton_month_data)\n",
    "    \n",
    "    \n",
    "    # trump\n",
    "    # 原始数据 rawpoll\n",
    "    rawpoll_trump_month_data = rawpoll_trump_data[month_array == month]\n",
    "    # 统计当月的总票数\n",
    "    rawpoll_trump_month_sum = get_sum(rawpoll_trump_month_data)\n",
    "    \n",
    "    # 调整数据 adjpoll\n",
    "    adjpoll_trump_month_data = adjpoll_trump_data[month_array == month]\n",
    "    # 统计当月的总票数\n",
    "    adjpoll_trump_month_sum = get_sum(adjpoll_trump_month_data)\n",
    "    \n",
    "    results.append((month, rawpoll_clinton_month_sum, adjpoll_clinton_month_sum, rawpoll_trump_month_sum, adjpoll_trump_month_sum))\n",
    "    \n",
    "print results\n",
    "\n",
    "months, raw_cliton_sum, adj_cliton_sum, raw_trump_sum, adj_trump_sum = zip(*results)"
   ]
  },
  {
   "cell_type": "markdown",
   "metadata": {},
   "source": [
    "* 可视化分析结果"
   ]
  },
  {
   "cell_type": "code",
   "execution_count": null,
   "metadata": {
    "collapsed": false
   },
   "outputs": [],
   "source": [
    "fig, subplot_arr = plt.subplots(2,2, figsize=(15,10))\n",
    "\n",
    "# 原始数据趋势展示\n",
    "subplot_arr[0,0].plot(raw_cliton_sum, color='r')\n",
    "subplot_arr[0,0].plot(raw_trump_sum, color='g')\n",
    "\n",
    "width = 0.25\n",
    "x = np.arange(len(months))\n",
    "subplot_arr[0,1].bar(x, raw_cliton_sum, width, color='r')\n",
    "subplot_arr[0,1].bar(x + width, raw_trump_sum, width, color='g')\n",
    "subplot_arr[0,1].set_xticks(x + width)\n",
    "subplot_arr[0,1].set_xticklabels(months, rotation='vertical')\n",
    "\n",
    "# 调整数据趋势展示\n",
    "subplot_arr[1,0].plot(adj_cliton_sum, color='r')\n",
    "subplot_arr[1,0].plot(adj_trump_sum, color='g')\n",
    "\n",
    "width = 0.25\n",
    "x = np.arange(len(months))\n",
    "subplot_arr[1,1].bar(x, adj_cliton_sum, width, color='r')\n",
    "subplot_arr[1,1].bar(x + width, adj_trump_sum, width, color='g')\n",
    "subplot_arr[1,1].set_xticks(x + width)\n",
    "subplot_arr[1,1].set_xticklabels(months, rotation='vertical')\n",
    "\n",
    "plt.subplots_adjust(wspace=0.2)\n",
    "\n",
    "plt.show()"
   ]
  },
  {
   "cell_type": "code",
   "execution_count": null,
   "metadata": {
    "collapsed": true
   },
   "outputs": [],
   "source": []
  }
 ],
 "metadata": {
  "anaconda-cloud": {},
  "kernelspec": {
   "display_name": "Python [conda root]",
   "language": "python",
   "name": "conda-root-py"
  },
  "language_info": {
   "codemirror_mode": {
    "name": "ipython",
    "version": 2
   },
   "file_extension": ".py",
   "mimetype": "text/x-python",
   "name": "python",
   "nbconvert_exporter": "python",
   "pygments_lexer": "ipython2",
   "version": "2.7.12"
  }
 },
 "nbformat": 4,
 "nbformat_minor": 1
}
